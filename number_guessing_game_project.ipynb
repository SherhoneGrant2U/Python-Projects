{
 "cells": [
  {
   "cell_type": "markdown",
   "metadata": {},
   "source": [
    "# Guess that Number!\n",
    "This is a small project geared to show my python capabilities. In this code a user will try to predict a random number set by the computer in 5 tries or less. \n",
    "If you get the answer correct - you may just be a genius. May all your guesses lead you to that right answer - Good Luck!"
   ]
  },
  {
   "cell_type": "code",
   "execution_count": 1,
   "metadata": {},
   "outputs": [
    {
     "name": "stdout",
     "output_type": "stream",
     "text": [
      "Guess the number in the range from 1 to 100.\n",
      "Your guess is too high!\n",
      "Your guess is too high!\n",
      "Your guess is too high!\n",
      "Your guess is too high!\n",
      "Your guess is too high!\n",
      "Sorry, you ran out of tries. The correct number was 5.\n"
     ]
    }
   ],
   "source": [
    "from random import randint\n",
    "\n",
    "# Set the number parameters\n",
    "lower_number, higher_number = 1, 100\n",
    "\n",
    "# Set the random integer\n",
    "random_number = randint(lower_number, higher_number)\n",
    "print(f'Guess the number in the range from {lower_number} to {higher_number}.')\n",
    "\n",
    "# Set the maximum number of tries\n",
    "max_tries = 5\n",
    "tries = 0\n",
    "\n",
    "while tries < max_tries:\n",
    "    try:\n",
    "        # Get the user input\n",
    "        user_guess = int(input('Enter your guess: '))\n",
    "    except ValueError as e:\n",
    "        print('Please enter a valid integer between 1 and 100!')\n",
    "        continue\n",
    "\n",
    "    # Check the user input\n",
    "    if user_guess == random_number:\n",
    "        print('You guessed the number correctly!')\n",
    "        break\n",
    "    elif user_guess > random_number:\n",
    "        print('Your guess is too high!')\n",
    "    else:\n",
    "        print('Your guess is too low!')\n",
    "\n",
    "    # Increment the try counter\n",
    "    tries += 1\n",
    "\n",
    "# Inform the user if they didn't guess the number in the allowed number of tries\n",
    "if tries == max_tries:\n",
    "    print(f'Sorry, you ran out of tries. The correct number was {random_number}.')\n",
    "\n",
    "\n"
   ]
  }
 ],
 "metadata": {
  "kernelspec": {
   "display_name": "base",
   "language": "python",
   "name": "python3"
  },
  "language_info": {
   "codemirror_mode": {
    "name": "ipython",
    "version": 3
   },
   "file_extension": ".py",
   "mimetype": "text/x-python",
   "name": "python",
   "nbconvert_exporter": "python",
   "pygments_lexer": "ipython3",
   "version": "3.8.5"
  }
 },
 "nbformat": 4,
 "nbformat_minor": 2
}
